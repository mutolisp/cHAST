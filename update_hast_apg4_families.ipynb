{
 "cells": [
  {
   "cell_type": "code",
   "execution_count": 73,
   "metadata": {
    "collapsed": true
   },
   "outputs": [],
   "source": [
    "from lxml import html\n",
    "import shutil\n",
    "import psycopg2 as pg\n",
    "from urllib import request\n",
    "import os.path\n",
    "\n",
    "DSN = 'dbname=nvdimp user=psilotum'\n",
    "conn = pg.connect(DSN)"
   ]
  },
  {
   "cell_type": "code",
   "execution_count": 2,
   "metadata": {
    "collapsed": true
   },
   "outputs": [],
   "source": [
    "getList = '''\n",
    "SELECT \n",
    "    h.hast_genus_id,h.genus,t.\"tropicosNamecode\" \n",
    "FROM \n",
    "    hast_genus h \n",
    "LEFT OUTER JOIN \n",
    "    hast_genus_w_tropicos t ON t.hast_genus_id = h.hast_genus_id\n",
    "WHERE h.family_apgiv is null and \"tropicosNamecode\" is not null;'''\n",
    "with conn:\n",
    "    with conn.cursor() as curs:\n",
    "        curs.execute(getList)\n",
    "        gen = curs.fetchall()"
   ]
  },
  {
   "cell_type": "code",
   "execution_count": 11,
   "metadata": {
    "collapsed": false,
    "scrolled": true
   },
   "outputs": [],
   "source": [
    "# download html first\n",
    "for i in range(0,len(gen)):\n",
    "    tropicos_base_url = 'http://www.tropicos.org/Name/'\n",
    "    namecode = str(gen[i][2])\n",
    "    genus_name = gen[i][1]\n",
    "    \n",
    "    tropicos_query_url = tropicos_base_url + namecode\n",
    "    if os.path.isfile('html/%s.html' % genus_name) is not True:\n",
    "        sresp, shead = request.urlretrieve(tropicos_query_url)\n",
    "        # cache file\n",
    "        shutil.copyfile(sresp, 'html/%s.html' % genus_name)"
   ]
  },
  {
   "cell_type": "code",
   "execution_count": 151,
   "metadata": {
    "collapsed": false
   },
   "outputs": [
    {
     "name": "stdout",
     "output_type": "stream",
     "text": [
      "[554, 'Heterosmilax']\n",
      "[1516, 'Erythropalum']\n"
     ]
    }
   ],
   "source": [
    "for i in range(0,len(gen)):\n",
    "    html_parser = html.parse('html/%s.html' % gen[i][1] ).getroot()\n",
    "    higher_taxa_path = '''//ul[@style=\"margin-top: 0px;\"]//li//a[starts-with(@id, 'ctl00_MainContentPlaceHolder_nameDetailsControl_HigherTaxonList_')]'''\n",
    "    if html_parser.xpath(higher_taxa_path) == []:\n",
    "        pass\n",
    "    else:\n",
    "        matches = html_parser.xpath(higher_taxa)\n",
    "        \n",
    "        if matches[len(matches)-1].text is None:\n",
    "            family = ''\n",
    "            family_namecode = ''\n",
    "            print([i, gen[i][1]])\n",
    "        else:\n",
    "            family_namecode = matches[len(matches)-1].get('href').split('/')[2]\n",
    "            family = matches[len(matches)-1].text.split(' ')[0].replace('!', '')\n",
    "        \n",
    "            UPDATE_HAST = '''UPDATE \n",
    "                    nomenclature.hast_genus \n",
    "               SET \n",
    "                    family_apgiv = '%s'\n",
    "               WHERE\n",
    "                    genus='%s'; ''' % (family, gen[i][1])\n",
    "            with conn:\n",
    "                with conn.cursor() as curs:\n",
    "                    curs.execute(UPDATE_HAST)"
   ]
  },
  {
   "cell_type": "code",
   "execution_count": 159,
   "metadata": {
    "collapsed": false
   },
   "outputs": [],
   "source": [
    "# 手動處理例外的\n",
    "excepGenus = ['Heterosmilax', 'Erythropalum']\n",
    "for i in range(len(excepGenus)):\n",
    "    html_parser = html.parse('html/%s.html' % excepGenus[i] ).getroot()\n",
    "    higher_taxa_path = '''//ul[@style=\"margin-top: 0px;\"]//li//a[starts-with(@id, 'ctl00_MainContentPlaceHolder_nameDetailsControl_HigherTaxonList_')]'''\n",
    "    if html_parser.xpath(higher_taxa_path) == []:\n",
    "        pass\n",
    "    else:\n",
    "        matches = html_parser.xpath(higher_taxa)\n",
    "        family_namecode = matches[4].get('href').split('/')[2]\n",
    "        family = matches[4].text.split(' ')[0].replace('!', '')\n",
    "        UPDATE_HAST = '''UPDATE \n",
    "                    nomenclature.hast_genus \n",
    "               SET \n",
    "                    family_apgiv = '%s'\n",
    "               WHERE\n",
    "                    genus='%s'; ''' % (family, excepGenus[i])\n",
    "        with conn:\n",
    "            with conn.cursor() as curs:\n",
    "                curs.execute(UPDATE_HAST)"
   ]
  },
  {
   "cell_type": "code",
   "execution_count": 155,
   "metadata": {
    "collapsed": false
   },
   "outputs": [
    {
     "data": {
      "text/plain": [
       "'Olacaceae R. Br.'"
      ]
     },
     "execution_count": 155,
     "metadata": {},
     "output_type": "execute_result"
    }
   ],
   "source": [
    "matches[4].text"
   ]
  },
  {
   "cell_type": "code",
   "execution_count": 165,
   "metadata": {
    "collapsed": false
   },
   "outputs": [],
   "source": [
    "# 更新 family_id\n",
    "UPDATE_HAST_FAMILY_ID = '''UPDATE hast_genus SET hast_family_id=f.hast_family_id \n",
    "    FROM \n",
    "        (SELECT * FROM hast_families) as f \n",
    "    WHERE \n",
    "        f.family=hast_genus.family_apgiv;\n",
    "        \n",
    "    UPDATE hast_genus SET \n",
    "        family_id_apgiv = f.family_id_apgiv, family_subid_apgiv = f.family_subid_apgiv\n",
    "    FROM\n",
    "        (SELECT * FROM nomenclature.apgiv_families) as f\n",
    "    WHERE \n",
    "        f.family = hast_genus.family_apgiv;\n",
    "        \n",
    "        '''\n",
    "with conn:\n",
    "    with conn.cursor() as curs:\n",
    "        curs.execute(UPDATE_HAST_FAMILY_ID)"
   ]
  },
  {
   "cell_type": "code",
   "execution_count": 171,
   "metadata": {
    "collapsed": true
   },
   "outputs": [],
   "source": [
    "# CREATE VIEW\n",
    "CREATE_QUES_GENUS = '''\n",
    "CREATE OR REPLACE VIEW nomenclature.hast_questionable_genus as \n",
    "    (SELECT \n",
    "        h.hast_genus_id, h.hast_family_id, h.family_apgiv, t.genus, h.genus_zh, \n",
    "        t.\"acceptedGenus\", t.\"acceptedNamecode\" \n",
    "     FROM hast_genus h \n",
    "     left outer join hast_genus_w_tropicos t \n",
    " ON t.hast_genus_id =  h.hast_genus_id where \"acceptedGenus\" is not null\n",
    "     or family_apgiv is null\n",
    "     ORDER BY h.family_apgiv, t.\"acceptedGenus\");\n",
    " \n",
    " CREATE OR REPLACE VIEW nomenclature.hast_checked_genus as \n",
    "    (SELECT \n",
    "        h.hast_genus_id, h.hast_family_id, h.family_apgiv, t.genus, h.genus_zh, \n",
    "        t.\"acceptedGenus\", t.\"acceptedNamecode\" \n",
    "     FROM hast_genus h \n",
    "     left outer join hast_genus_w_tropicos t \n",
    " ON t.hast_genus_id =  h.hast_genus_id where \"acceptedGenus\" is null and \n",
    "     family_apgiv is not null order by h.family_apgiv,t.genus);\n",
    "'''\n",
    "with conn:\n",
    "    with conn.cursor() as curs:\n",
    "        curs.execute(CREATE_QUES_GENUS)"
   ]
  },
  {
   "cell_type": "code",
   "execution_count": null,
   "metadata": {
    "collapsed": true
   },
   "outputs": [],
   "source": []
  }
 ],
 "metadata": {
  "kernelspec": {
   "display_name": "Python 3",
   "language": "python",
   "name": "python3"
  },
  "language_info": {
   "codemirror_mode": {
    "name": "ipython",
    "version": 3
   },
   "file_extension": ".py",
   "mimetype": "text/x-python",
   "name": "python",
   "nbconvert_exporter": "python",
   "pygments_lexer": "ipython3",
   "version": "3.5.2"
  }
 },
 "nbformat": 4,
 "nbformat_minor": 1
}
